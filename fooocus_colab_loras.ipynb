{
  "cells": [
    {
      "cell_type": "markdown",
      "metadata": {
        "id": "view-in-github",
        "colab_type": "text"
      },
      "source": [
        "<a href=\"https://colab.research.google.com/github/xjdeng/sd_colab_notebooks/blob/main/fooocus_colab_loras.ipynb\" target=\"_parent\"><img src=\"https://colab.research.google.com/assets/colab-badge.svg\" alt=\"Open In Colab\"/></a>"
      ]
    },
    {
      "cell_type": "code",
      "source": [
        "# @markdown # Install Fooocus\n",
        "\n",
        "!pip install pygit2==1.15.1\n",
        "%cd /content\n",
        "!git clone https://github.com/lllyasviel/Fooocus.git\n",
        "%cd /content/Fooocus"
      ],
      "metadata": {
        "cellView": "form",
        "id": "avMQf5Vsamgx"
      },
      "execution_count": null,
      "outputs": []
    },
    {
      "cell_type": "code",
      "source": [
        "# @markdown # Download a LoRA\n",
        "\n",
        "# @markdown (To download multiple LoRAs, run this multiple times but make sure they're all SDXL compatible)\n",
        "\n",
        "LoRA_URL = \"https://civitai.com/api/download/models/141972?type=Model&format=SafeTensor\" # @param {\"type\":\"string\"}\n",
        "Civitai_API_Key = \"\" # @param {\"type\":\"string\"}\n",
        "\n",
        "import os\n",
        "\n",
        "# Make sure destination directory exists\n",
        "os.makedirs(\"models/loras\", exist_ok=True)\n",
        "\n",
        "# Only proceed if LoRA_URL is non-empty\n",
        "if LoRA_URL.strip():\n",
        "    # Add API key if present\n",
        "    if Civitai_API_Key.strip():\n",
        "        sep = '&' if '?' in LoRA_URL else '?'\n",
        "        full_url = f\"{LoRA_URL}{sep}token={Civitai_API_Key.strip()}\"\n",
        "    else:\n",
        "        full_url = LoRA_URL\n",
        "\n",
        "    # Run the wget command with proper quoting\n",
        "    !wget --content-disposition --directory-prefix=models/loras \"{full_url}\"\n",
        "else:\n",
        "    print(\"No LoRA_URL provided. Skipping download.\")"
      ],
      "metadata": {
        "id": "Ni3wLD0Ea2jH"
      },
      "execution_count": null,
      "outputs": []
    },
    {
      "cell_type": "code",
      "execution_count": null,
      "metadata": {
        "id": "VjYy0F2gZIPR",
        "cellView": "form",
        "collapsed": true
      },
      "outputs": [],
      "source": [
        "# @markdown # Launch Fooocus\n",
        "\n",
        "!python entry_with_update.py --share --always-high-vram\n"
      ]
    }
  ],
  "metadata": {
    "accelerator": "GPU",
    "colab": {
      "gpuType": "T4",
      "provenance": [],
      "include_colab_link": true
    },
    "kernelspec": {
      "display_name": "Python 3",
      "name": "python3"
    },
    "language_info": {
      "name": "python"
    }
  },
  "nbformat": 4,
  "nbformat_minor": 0
}